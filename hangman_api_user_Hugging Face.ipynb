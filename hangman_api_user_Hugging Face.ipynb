{
  "cells": [
    {
      "cell_type": "markdown",
      "metadata": {
        "id": "NRBpmwFaNJ01"
      },
      "source": [
        "# Trexquant Interview Project (The Hangman Game)\n",
        "\n",
        "* Copyright Trexquant Investment LP. All Rights Reserved.\n",
        "* Redistribution of this question without written consent from Trexquant is prohibited"
      ]
    },
    {
      "cell_type": "markdown",
      "metadata": {
        "id": "sD5UsQ6nNJ04"
      },
      "source": [
        "## Instruction:\n",
        "For this coding test, your mission is to write an algorithm that plays the game of Hangman through our API server.\n",
        "\n",
        "When a user plays Hangman, the server first selects a secret word at random from a list. The server then returns a row of underscores (space separated)—one for each letter in the secret word—and asks the user to guess a letter. If the user guesses a letter that is in the word, the word is redisplayed with all instances of that letter shown in the correct positions, along with any letters correctly guessed on previous turns. If the letter does not appear in the word, the user is charged with an incorrect guess. The user keeps guessing letters until either (1) the user has correctly guessed all the letters in the word\n",
        "or (2) the user has made six incorrect guesses.\n",
        "\n",
        "You are required to write a \"guess\" function that takes current word (with underscores) as input and returns a guess letter. You will use the API codes below to play 1,000 Hangman games. You have the opportunity to practice before you want to start recording your game results.\n",
        "\n",
        "Your algorithm is permitted to use a training set of approximately 250,000 dictionary words. Your algorithm will be tested on an entirely disjoint set of 250,000 dictionary words. Please note that this means the words that you will ultimately be tested on do NOT appear in the dictionary that you are given. You are not permitted to use any dictionary other than the training dictionary we provided. This requirement will be strictly enforced by code review.\n",
        "\n",
        "You are provided with a basic, working algorithm. This algorithm will match the provided masked string (e.g. a _ _ l e) to all possible words in the dictionary, tabulate the frequency of letters appearing in these possible words, and then guess the letter with the highest frequency of appearence that has not already been guessed. If there are no remaining words that match then it will default back to the character frequency distribution of the entire dictionary.\n",
        "\n",
        "This benchmark strategy is successful approximately 18% of the time. Your task is to design an algorithm that significantly outperforms this benchmark."
      ]
    },
    {
      "cell_type": "code",
      "source": [
        "!pip install transformers"
      ],
      "metadata": {
        "colab": {
          "base_uri": "https://localhost:8080/"
        },
        "id": "XkczlqcUd9Qv",
        "outputId": "ef485008-ad5e-490d-b2d2-bee399479601"
      },
      "execution_count": 2,
      "outputs": [
        {
          "output_type": "stream",
          "name": "stdout",
          "text": [
            "Collecting transformers\n",
            "  Downloading transformers-4.30.2-py3-none-any.whl (7.2 MB)\n",
            "\u001b[2K     \u001b[90m━━━━━━━━━━━━━━━━━━━━━━━━━━━━━━━━━━━━━━━━\u001b[0m \u001b[32m7.2/7.2 MB\u001b[0m \u001b[31m50.7 MB/s\u001b[0m eta \u001b[36m0:00:00\u001b[0m\n",
            "\u001b[?25hRequirement already satisfied: filelock in /usr/local/lib/python3.10/dist-packages (from transformers) (3.12.2)\n",
            "Collecting huggingface-hub<1.0,>=0.14.1 (from transformers)\n",
            "  Downloading huggingface_hub-0.15.1-py3-none-any.whl (236 kB)\n",
            "\u001b[2K     \u001b[90m━━━━━━━━━━━━━━━━━━━━━━━━━━━━━━━━━━━━━━\u001b[0m \u001b[32m236.8/236.8 kB\u001b[0m \u001b[31m22.5 MB/s\u001b[0m eta \u001b[36m0:00:00\u001b[0m\n",
            "\u001b[?25hRequirement already satisfied: numpy>=1.17 in /usr/local/lib/python3.10/dist-packages (from transformers) (1.22.4)\n",
            "Requirement already satisfied: packaging>=20.0 in /usr/local/lib/python3.10/dist-packages (from transformers) (23.1)\n",
            "Requirement already satisfied: pyyaml>=5.1 in /usr/local/lib/python3.10/dist-packages (from transformers) (6.0)\n",
            "Requirement already satisfied: regex!=2019.12.17 in /usr/local/lib/python3.10/dist-packages (from transformers) (2022.10.31)\n",
            "Requirement already satisfied: requests in /usr/local/lib/python3.10/dist-packages (from transformers) (2.27.1)\n",
            "Collecting tokenizers!=0.11.3,<0.14,>=0.11.1 (from transformers)\n",
            "  Downloading tokenizers-0.13.3-cp310-cp310-manylinux_2_17_x86_64.manylinux2014_x86_64.whl (7.8 MB)\n",
            "\u001b[2K     \u001b[90m━━━━━━━━━━━━━━━━━━━━━━━━━━━━━━━━━━━━━━━━\u001b[0m \u001b[32m7.8/7.8 MB\u001b[0m \u001b[31m94.1 MB/s\u001b[0m eta \u001b[36m0:00:00\u001b[0m\n",
            "\u001b[?25hCollecting safetensors>=0.3.1 (from transformers)\n",
            "  Downloading safetensors-0.3.1-cp310-cp310-manylinux_2_17_x86_64.manylinux2014_x86_64.whl (1.3 MB)\n",
            "\u001b[2K     \u001b[90m━━━━━━━━━━━━━━━━━━━━━━━━━━━━━━━━━━━━━━━━\u001b[0m \u001b[32m1.3/1.3 MB\u001b[0m \u001b[31m65.3 MB/s\u001b[0m eta \u001b[36m0:00:00\u001b[0m\n",
            "\u001b[?25hRequirement already satisfied: tqdm>=4.27 in /usr/local/lib/python3.10/dist-packages (from transformers) (4.65.0)\n",
            "Requirement already satisfied: fsspec in /usr/local/lib/python3.10/dist-packages (from huggingface-hub<1.0,>=0.14.1->transformers) (2023.6.0)\n",
            "Requirement already satisfied: typing-extensions>=3.7.4.3 in /usr/local/lib/python3.10/dist-packages (from huggingface-hub<1.0,>=0.14.1->transformers) (4.6.3)\n",
            "Requirement already satisfied: urllib3<1.27,>=1.21.1 in /usr/local/lib/python3.10/dist-packages (from requests->transformers) (1.26.16)\n",
            "Requirement already satisfied: certifi>=2017.4.17 in /usr/local/lib/python3.10/dist-packages (from requests->transformers) (2023.5.7)\n",
            "Requirement already satisfied: charset-normalizer~=2.0.0 in /usr/local/lib/python3.10/dist-packages (from requests->transformers) (2.0.12)\n",
            "Requirement already satisfied: idna<4,>=2.5 in /usr/local/lib/python3.10/dist-packages (from requests->transformers) (3.4)\n",
            "Installing collected packages: tokenizers, safetensors, huggingface-hub, transformers\n",
            "Successfully installed huggingface-hub-0.15.1 safetensors-0.3.1 tokenizers-0.13.3 transformers-4.30.2\n"
          ]
        }
      ]
    },
    {
      "cell_type": "code",
      "source": [
        "import torch"
      ],
      "metadata": {
        "id": "z3McdGFuoNn6"
      },
      "execution_count": 6,
      "outputs": []
    },
    {
      "cell_type": "code",
      "execution_count": 17,
      "metadata": {
        "jupyter": {
          "outputs_hidden": true
        },
        "scrolled": true,
        "id": "xQoEy5AQNJ05"
      },
      "outputs": [],
      "source": [
        "import json\n",
        "import requests\n",
        "import random\n",
        "import string\n",
        "import secrets\n",
        "import time\n",
        "import re\n",
        "import collections\n",
        "from transformers import GPT2LMHeadModel, GPT2Tokenizer\n",
        "\n",
        "try:\n",
        "    from urllib.parse import parse_qs, urlencode, urlparse\n",
        "except ImportError:\n",
        "    from urlparse import parse_qs, urlparse\n",
        "    from urllib import urlencode\n",
        "\n",
        "from requests.packages.urllib3.exceptions import InsecureRequestWarning\n",
        "\n",
        "requests.packages.urllib3.disable_warnings(InsecureRequestWarning)"
      ]
    },
    {
      "cell_type": "code",
      "execution_count": 26,
      "metadata": {
        "jupyter": {
          "outputs_hidden": true
        },
        "id": "B21jT6fZNJ07"
      },
      "outputs": [],
      "source": [
        "class HangmanAPI(object):\n",
        "    def __init__(self, access_token=None, session=None, timeout=None):\n",
        "        self.hangman_url = self.determine_hangman_url()\n",
        "        self.access_token = access_token\n",
        "        self.session = session or requests.Session()\n",
        "        self.timeout = timeout\n",
        "        self.guessed_letters = []\n",
        "\n",
        "        full_dictionary_location = \"words_250000_train.txt\"\n",
        "        self.full_dictionary = self.build_dictionary(full_dictionary_location)\n",
        "        self.full_dictionary_common_letter_sorted = collections.Counter(\"\".join(self.full_dictionary)).most_common()\n",
        "\n",
        "        self.current_dictionary = []\n",
        "        # Load the GPT-2 model and tokenizer\n",
        "        self.model = GPT2LMHeadModel.from_pretrained('gpt2')\n",
        "        self.tokenizer = GPT2Tokenizer.from_pretrained('gpt2')\n",
        "        self.tokenizer.add_special_tokens({'pad_token': '[PAD]'})  # Add a new padding token\n",
        "        self.model.resize_token_embeddings(len(self.tokenizer))  # Resize the token embeddings\n",
        "\n",
        "        # Set the pad_token_id\n",
        "        self.pad_token_id = self.tokenizer.convert_tokens_to_ids('[PAD]')\n",
        "\n",
        "    @staticmethod\n",
        "    def determine_hangman_url():\n",
        "        links = ['https://trexsim.com', 'https://sg.trexsim.com']\n",
        "\n",
        "        data = {link: 0 for link in links}\n",
        "\n",
        "        for link in links:\n",
        "\n",
        "            requests.get(link)\n",
        "\n",
        "            for i in range(10):\n",
        "                s = time.time()\n",
        "                requests.get(link)\n",
        "                data[link] = time.time() - s\n",
        "\n",
        "        link = sorted(data.items(), key=lambda x: x[1])[0][0]\n",
        "        link += '/trexsim/hangman'\n",
        "        return link\n",
        "\n",
        "    def guess(self, word): # word input example: \"_ p p _ e \"\n",
        "        # ###############################################\n",
        "        # # Replace with your own \"guess\" function here #\n",
        "        # ###############################################\n",
        "        clean_word = word.replace(\"_\", \"\")\n",
        "\n",
        "        # Generate the next character using the GPT-2 model\n",
        "        input_ids = self.tokenizer.encode(clean_word, return_tensors='pt', padding=True)\n",
        "        attention_mask = torch.ones(input_ids.shape, dtype=torch.long)\n",
        "\n",
        "        output = self.model.generate(input_ids, attention_mask=attention_mask, max_length=len(clean_word) + 1, pad_token_id=self.pad_token_id)\n",
        "        next_token_id = output[:, -1]\n",
        "        guess_letter = self.tokenizer.decode(next_token_id)\n",
        "\n",
        "        # If the generated token is not a valid letter or has already been guessed, fallback to default strategy\n",
        "        # if not guess_letter.isalpha() or guess_letter in self.guessed_letters:\n",
        "        #     guess_letter = self.default_guess_strategy()\n",
        "\n",
        "        return guess_letter\n",
        "\n",
        "\n",
        "\n",
        "        # # clean the word so that we strip away the space characters\n",
        "        # # replace \"_\" with \".\" as \".\" indicates any character in regular expressions\n",
        "        # clean_word = word[::2].replace(\"_\",\".\")\n",
        "\n",
        "        # # find length of passed word\n",
        "        # len_word = len(clean_word)\n",
        "\n",
        "        # # grab current dictionary of possible words from self object, initialize new possible words dictionary to empty\n",
        "        # current_dictionary = self.current_dictionary\n",
        "        # new_dictionary = []\n",
        "\n",
        "        # # iterate through all of the words in the old plausible dictionary\n",
        "        # for dict_word in current_dictionary:\n",
        "        #     # continue if the word is not of the appropriate length\n",
        "        #     if len(dict_word) != len_word:\n",
        "        #         continue\n",
        "\n",
        "        #     # if dictionary word is a possible match then add it to the current dictionary\n",
        "        #     if re.match(clean_word,dict_word):\n",
        "        #         new_dictionary.append(dict_word)\n",
        "\n",
        "        # # overwrite old possible words dictionary with updated version\n",
        "        # self.current_dictionary = new_dictionary\n",
        "\n",
        "\n",
        "        # # count occurrence of all characters in possible word matches\n",
        "        # full_dict_string = \"\".join(new_dictionary)\n",
        "\n",
        "        # c = collections.Counter(full_dict_string)\n",
        "        # sorted_letter_count = c.most_common()\n",
        "\n",
        "        # guess_letter = '!'\n",
        "\n",
        "        # # return most frequently occurring letter in all possible words that hasn't been guessed yet\n",
        "        # for letter,instance_count in sorted_letter_count:\n",
        "        #     if letter not in self.guessed_letters:\n",
        "        #         guess_letter = letter\n",
        "        #         break\n",
        "\n",
        "        # # if no word matches in training dictionary, default back to ordering of full dictionary\n",
        "        # if guess_letter == '!':\n",
        "        #     sorted_letter_count = self.full_dictionary_common_letter_sorted\n",
        "        #     for letter,instance_count in sorted_letter_count:\n",
        "        #         if letter not in self.guessed_letters:\n",
        "        #             guess_letter = letter\n",
        "        #             break\n",
        "\n",
        "        # return guess_letter\n",
        "\n",
        "    ##########################################################\n",
        "    # You'll likely not need to modify any of the code below #\n",
        "    ##########################################################\n",
        "\n",
        "    def build_dictionary(self, dictionary_file_location):\n",
        "        text_file = open(dictionary_file_location,\"r\")\n",
        "        full_dictionary = text_file.read().splitlines()\n",
        "        text_file.close()\n",
        "        return full_dictionary\n",
        "\n",
        "    def start_game(self, practice=True, verbose=True):\n",
        "        # reset guessed letters to empty set and current plausible dictionary to the full dictionary\n",
        "        self.guessed_letters = []\n",
        "        self.current_dictionary = self.full_dictionary\n",
        "\n",
        "        response = self.request(\"/new_game\", {\"practice\":practice})\n",
        "        if response.get('status')==\"approved\":\n",
        "            game_id = response.get('game_id')\n",
        "            word = response.get('word')\n",
        "            tries_remains = response.get('tries_remains')\n",
        "            if verbose:\n",
        "                print(\"Successfully start a new game! Game ID: {0}. # of tries remaining: {1}. Word: {2}.\".format(game_id, tries_remains, word))\n",
        "            while tries_remains>0:\n",
        "                # get guessed letter from user code\n",
        "                guess_letter = self.guess(word)\n",
        "\n",
        "                # append guessed letter to guessed letters field in hangman object\n",
        "                self.guessed_letters.append(guess_letter)\n",
        "                if verbose:\n",
        "                    print(\"Guessing letter: {0}\".format(guess_letter))\n",
        "\n",
        "                try:\n",
        "                    res = self.request(\"/guess_letter\", {\"request\":\"guess_letter\", \"game_id\":game_id, \"letter\":guess_letter})\n",
        "                except HangmanAPIError:\n",
        "                    print('HangmanAPIError exception caught on request.')\n",
        "                    continue\n",
        "                except Exception as e:\n",
        "                    print('Other exception caught on request.')\n",
        "                    raise e\n",
        "\n",
        "                if verbose:\n",
        "                    print(\"Sever response: {0}\".format(res))\n",
        "                status = res.get('status')\n",
        "                tries_remains = res.get('tries_remains')\n",
        "                if status==\"success\":\n",
        "                    if verbose:\n",
        "                        print(\"Successfully finished game: {0}\".format(game_id))\n",
        "                    return True\n",
        "                elif status==\"failed\":\n",
        "                    reason = res.get('reason', '# of tries exceeded!')\n",
        "                    if verbose:\n",
        "                        print(\"Failed game: {0}. Because of: {1}\".format(game_id, reason))\n",
        "                    return False\n",
        "                elif status==\"ongoing\":\n",
        "                    word = res.get('word')\n",
        "        else:\n",
        "            if verbose:\n",
        "                print(\"Failed to start a new game\")\n",
        "        return status==\"success\"\n",
        "\n",
        "    def my_status(self):\n",
        "        return self.request(\"/my_status\", {})\n",
        "\n",
        "    def request(\n",
        "            self, path, args=None, post_args=None, method=None):\n",
        "        if args is None:\n",
        "            args = dict()\n",
        "        if post_args is not None:\n",
        "            method = \"POST\"\n",
        "\n",
        "        # Add `access_token` to post_args or args if it has not already been\n",
        "        # included.\n",
        "        if self.access_token:\n",
        "            # If post_args exists, we assume that args either does not exists\n",
        "            # or it does not need `access_token`.\n",
        "            if post_args and \"access_token\" not in post_args:\n",
        "                post_args[\"access_token\"] = self.access_token\n",
        "            elif \"access_token\" not in args:\n",
        "                args[\"access_token\"] = self.access_token\n",
        "\n",
        "        time.sleep(0.2)\n",
        "\n",
        "        num_retry, time_sleep = 50, 2\n",
        "        for it in range(num_retry):\n",
        "            try:\n",
        "                response = self.session.request(\n",
        "                    method or \"GET\",\n",
        "                    self.hangman_url + path,\n",
        "                    timeout=self.timeout,\n",
        "                    params=args,\n",
        "                    data=post_args,\n",
        "                    verify=False\n",
        "                )\n",
        "                break\n",
        "            except requests.HTTPError as e:\n",
        "                response = json.loads(e.read())\n",
        "                raise HangmanAPIError(response)\n",
        "            except requests.exceptions.SSLError as e:\n",
        "                if it + 1 == num_retry:\n",
        "                    raise\n",
        "                time.sleep(time_sleep)\n",
        "\n",
        "        headers = response.headers\n",
        "        if 'json' in headers['content-type']:\n",
        "            result = response.json()\n",
        "        elif \"access_token\" in parse_qs(response.text):\n",
        "            query_str = parse_qs(response.text)\n",
        "            if \"access_token\" in query_str:\n",
        "                result = {\"access_token\": query_str[\"access_token\"][0]}\n",
        "                if \"expires\" in query_str:\n",
        "                    result[\"expires\"] = query_str[\"expires\"][0]\n",
        "            else:\n",
        "                raise HangmanAPIError(response.json())\n",
        "        else:\n",
        "            raise HangmanAPIError('Maintype was not text, or querystring')\n",
        "\n",
        "        if result and isinstance(result, dict) and result.get(\"error\"):\n",
        "            raise HangmanAPIError(result)\n",
        "        return result\n",
        "\n",
        "class HangmanAPIError(Exception):\n",
        "    def __init__(self, result):\n",
        "        self.result = result\n",
        "        self.code = None\n",
        "        try:\n",
        "            self.type = result[\"error_code\"]\n",
        "        except (KeyError, TypeError):\n",
        "            self.type = \"\"\n",
        "\n",
        "        try:\n",
        "            self.message = result[\"error_description\"]\n",
        "        except (KeyError, TypeError):\n",
        "            try:\n",
        "                self.message = result[\"error\"][\"message\"]\n",
        "                self.code = result[\"error\"].get(\"code\")\n",
        "                if not self.type:\n",
        "                    self.type = result[\"error\"].get(\"type\", \"\")\n",
        "            except (KeyError, TypeError):\n",
        "                try:\n",
        "                    self.message = result[\"error_msg\"]\n",
        "                except (KeyError, TypeError):\n",
        "                    self.message = result\n",
        "\n",
        "        Exception.__init__(self, self.message)"
      ]
    },
    {
      "cell_type": "markdown",
      "metadata": {
        "id": "xh-9YW52NJ08"
      },
      "source": [
        "# API Usage Examples"
      ]
    },
    {
      "cell_type": "markdown",
      "metadata": {
        "id": "1MeXph8nNJ08"
      },
      "source": [
        "## To start a new game:\n",
        "1. Make sure you have implemented your own \"guess\" method.\n",
        "2. Use the access_token that we sent you to create your HangmanAPI object.\n",
        "3. Start a game by calling \"start_game\" method.\n",
        "4. If you wish to test your function without being recorded, set \"practice\" parameter to 1.\n",
        "5. Note: You have a rate limit of 20 new games per minute. DO NOT start more than 20 new games within one minute."
      ]
    },
    {
      "cell_type": "code",
      "execution_count": 27,
      "metadata": {
        "jupyter": {
          "outputs_hidden": true
        },
        "id": "SkhTDfhdNJ09"
      },
      "outputs": [],
      "source": [
        "api = HangmanAPI(access_token=\"80d66eeed132341ff28ea2af32f1ab\", timeout=2000)\n"
      ]
    },
    {
      "cell_type": "markdown",
      "metadata": {
        "id": "LfaUZf1wNJ09"
      },
      "source": [
        "## Playing practice games:\n",
        "You can use the command below to play up to 100,000 practice games."
      ]
    },
    {
      "cell_type": "code",
      "execution_count": 28,
      "metadata": {
        "jupyter": {
          "outputs_hidden": true
        },
        "scrolled": true,
        "colab": {
          "base_uri": "https://localhost:8080/"
        },
        "id": "yZeYG6YSNJ09",
        "outputId": "a0dc06e7-65cc-40b2-acf5-1b116539c277"
      },
      "outputs": [
        {
          "output_type": "stream",
          "name": "stdout",
          "text": [
            "Successfully start a new game! Game ID: 57c20067b12e. # of tries remaining: 6. Word: _ _ _ _ _ _ _ _ _ _ _ _ .\n",
            "Guessing letter: [PAD]\n",
            "Sever response: {'game_id': '57c20067b12e', 'status': 'ongoing', 'tries_remains': 5, 'word': '_ _ _ _ _ _ _ _ _ _ _ _ '}\n",
            "Guessing letter: [PAD]\n",
            "Sever response: {'game_id': '57c20067b12e', 'status': 'ongoing', 'tries_remains': 4, 'word': '_ _ _ _ _ _ _ _ _ _ _ _ '}\n",
            "Guessing letter: [PAD]\n",
            "Sever response: {'game_id': '57c20067b12e', 'status': 'ongoing', 'tries_remains': 3, 'word': '_ _ _ _ _ _ _ _ _ _ _ _ '}\n",
            "Guessing letter: [PAD]\n",
            "Sever response: {'game_id': '57c20067b12e', 'status': 'ongoing', 'tries_remains': 2, 'word': '_ _ _ _ _ _ _ _ _ _ _ _ '}\n",
            "Guessing letter: [PAD]\n",
            "Sever response: {'game_id': '57c20067b12e', 'status': 'ongoing', 'tries_remains': 1, 'word': '_ _ _ _ _ _ _ _ _ _ _ _ '}\n",
            "Guessing letter: [PAD]\n",
            "Sever response: {'game_id': '57c20067b12e', 'status': 'failed', 'tries_remains': 0, 'word': '_ _ _ _ _ _ _ _ _ _ _ _ '}\n",
            "Failed game: 57c20067b12e. Because of: # of tries exceeded!\n",
            "run 12 practice games out of an allotted 100,000. practice success rate so far = 0.000\n"
          ]
        }
      ],
      "source": [
        "api.start_game(practice=1,verbose=True)\n",
        "[total_practice_runs,total_recorded_runs,total_recorded_successes,total_practice_successes] = api.my_status() # Get my game stats: (# of tries, # of wins)\n",
        "practice_success_rate = total_practice_successes / total_practice_runs\n",
        "print('run %d practice games out of an allotted 100,000. practice success rate so far = %.3f' % (total_practice_runs, practice_success_rate))\n"
      ]
    },
    {
      "cell_type": "markdown",
      "metadata": {
        "id": "Jf2DYjYKNJ0-"
      },
      "source": [
        "## Playing recorded games:\n",
        "Please finalize your code prior to running the cell below. Once this code executes once successfully your submission will be finalized. Our system will not allow you to rerun any additional games.\n",
        "\n",
        "Please note that it is expected that after you successfully run this block of code that subsequent runs will result in the error message \"Your account has been deactivated\".\n",
        "\n",
        "Once you've run this section of the code your submission is complete. Please send us your source code via email."
      ]
    },
    {
      "cell_type": "code",
      "execution_count": null,
      "metadata": {
        "jupyter": {
          "outputs_hidden": true
        },
        "id": "aXx35rlONJ0-"
      },
      "outputs": [],
      "source": [
        "for i in range(1000):\n",
        "    print('Playing ', i, ' th game')\n",
        "    # Uncomment the following line to execute your final runs. Do not do this until you are satisfied with your submission\n",
        "    #api.start_game(practice=0,verbose=False)\n",
        "\n",
        "    # DO NOT REMOVE as otherwise the server may lock you out for too high frequency of requests\n",
        "    time.sleep(0.5)"
      ]
    },
    {
      "cell_type": "code",
      "execution_count": null,
      "metadata": {
        "jupyter": {
          "outputs_hidden": true
        },
        "id": "djWZ3hqdNJ0-"
      },
      "outputs": [],
      "source": []
    },
    {
      "cell_type": "markdown",
      "metadata": {
        "id": "bcVQEaSyNJ0-"
      },
      "source": [
        "## To check your game statistics\n",
        "1. Simply use \"my_status\" method.\n",
        "2. Returns your total number of games, and number of wins."
      ]
    },
    {
      "cell_type": "code",
      "execution_count": null,
      "metadata": {
        "jupyter": {
          "outputs_hidden": true
        },
        "id": "mEV2o5d2NJ0-"
      },
      "outputs": [],
      "source": [
        "[total_practice_runs,total_recorded_runs,total_recorded_successes,total_practice_successes] = api.my_status() # Get my game stats: (# of tries, # of wins)\n",
        "success_rate = total_recorded_successes/total_recorded_runs\n",
        "print('overall success rate = %.3f' % success_rate)"
      ]
    },
    {
      "cell_type": "code",
      "execution_count": null,
      "metadata": {
        "jupyter": {
          "outputs_hidden": true
        },
        "id": "L58nAxtCNJ0_"
      },
      "outputs": [],
      "source": []
    }
  ],
  "metadata": {
    "kernelspec": {
      "display_name": "Python 3",
      "language": "python",
      "name": "python3"
    },
    "language_info": {
      "codemirror_mode": {
        "name": "ipython",
        "version": 3
      },
      "file_extension": ".py",
      "mimetype": "text/x-python",
      "name": "python",
      "nbconvert_exporter": "python",
      "pygments_lexer": "ipython3",
      "version": "3.6.15"
    },
    "colab": {
      "provenance": []
    }
  },
  "nbformat": 4,
  "nbformat_minor": 0
}